{
 "cells": [
  {
   "cell_type": "code",
   "execution_count": 29,
   "metadata": {},
   "outputs": [],
   "source": [
    "import subprocess\n",
    "\n",
    "def list_usb_devices():\n",
    "    try: \n",
    "        # Run the lsusb command \n",
    "        result = subprocess.run(['lsusb'], capture_output=True, text=True, check=True)\n",
    "        devices = result.stdout.strip().split('\\n')\n",
    "        return devices\n",
    "    except FileNotFoundError:\n",
    "        return \"Error: 'lsusb' command not found. Make sure it's installed and available in the PATH.\"\n",
    "    except subprocess.CalledProcessError as e:\n",
    "        return f\"Error running 'lsusb': {e}\"\n"
   ]
  },
  {
   "cell_type": "code",
   "execution_count": 30,
   "metadata": {},
   "outputs": [
    {
     "name": "stdout",
     "output_type": "stream",
     "text": [
      "Bus 002 Device 002: ID 0bda:0420 Realtek Semiconductor Corp. 4-Port USB 3.0 Hub\n",
      "Bus 002 Device 001: ID 1d6b:0003 Linux Foundation 3.0 root hub\n",
      "Bus 001 Device 005: ID 062a:38df MosArt Semiconductor Corp. TIETI UltraSlim KB\n",
      "Bus 001 Device 004: ID 1bcf:08a0 Sunplus Innovation Technology Inc. Gaming mouse [Philips SPK9304]\n",
      "Bus 001 Device 003: ID 0bda:5420 Realtek Semiconductor Corp. 4-Port USB 2.0 Hub\n",
      "Bus 001 Device 002: ID 13d3:3549 IMC Networks Bluetooth Radio\n",
      "Bus 001 Device 001: ID 1d6b:0002 Linux Foundation 2.0 root hub\n"
     ]
    }
   ],
   "source": [
    "# Example usage\n",
    "usb_devices = list_usb_devices()\n",
    "if isinstance(usb_devices, list):\n",
    "    for device in usb_devices:\n",
    "        print(device)\n",
    "else:\n",
    "    print(usb_devices)"
   ]
  },
  {
   "cell_type": "markdown",
   "metadata": {},
   "source": [
    "Bus 002 Device 002: ID 0bda:0420 Realtek Semiconductor Corp. 4-Port USB 3.0 Hub\n",
    "Bus 002 Device 001: ID 1d6b:0003 Linux Foundation 3.0 root hub\n",
    "Bus 001 Device 005: ID 062a:38df MosArt Semiconductor Corp. TIETI UltraSlim KB\n",
    "Bus 001 Device 004: ID 1bcf:08a0 Sunplus Innovation Technology Inc. Gaming mouse [Philips SPK9304]\n",
    "Bus 001 Device 003: ID 0bda:5420 Realtek Semiconductor Corp. 4-Port USB 2.0 Hub\n",
    "Bus 001 Device 002: ID 13d3:3549 IMC Networks Bluetooth Radio\n",
    "Bus 001 Device 001: ID 1d6b:0002 Linux Foundation 2.0 root hub"
   ]
  },
  {
   "cell_type": "code",
   "execution_count": 31,
   "metadata": {},
   "outputs": [],
   "source": [
    "from dataclasses import dataclass \n",
    "from typing import Literal, List \n",
    "\n",
    "@dataclass \n",
    "class USBDevice:\n",
    "    bus_number: str\n",
    "    device_number: str\n",
    "    vendor_id: str \n",
    "    product_id: str\n",
    "    vendor_name: str\n",
    "    product_description: str "
   ]
  },
  {
   "cell_type": "code",
   "execution_count": 32,
   "metadata": {},
   "outputs": [],
   "source": [
    "def usb_devices():\n",
    "    result = subprocess.run(['lsusb'], capture_output=True, text=True, check=True)\n",
    "    devices = result.stdout.strip().split('\\n')\n",
    "    for device in usb_devices:\n",
    "        print(device)"
   ]
  },
  {
   "cell_type": "code",
   "execution_count": null,
   "metadata": {},
   "outputs": [],
   "source": []
  },
  {
   "cell_type": "code",
   "execution_count": null,
   "metadata": {},
   "outputs": [],
   "source": []
  },
  {
   "cell_type": "code",
   "execution_count": null,
   "metadata": {},
   "outputs": [],
   "source": []
  },
  {
   "cell_type": "code",
   "execution_count": 33,
   "metadata": {},
   "outputs": [
    {
     "ename": "NameError",
     "evalue": "name 'USBTools' is not defined",
     "output_type": "error",
     "traceback": [
      "\u001b[0;31m---------------------------------------------------------------------------\u001b[0m",
      "\u001b[0;31mNameError\u001b[0m                                 Traceback (most recent call last)",
      "Cell \u001b[0;32mIn[33], line 1\u001b[0m\n\u001b[0;32m----> 1\u001b[0m usb_devices \u001b[38;5;241m=\u001b[39m \u001b[43mUSBTools\u001b[49m\u001b[38;5;241m.\u001b[39mlist_usb_devices()\n\u001b[1;32m      2\u001b[0m \u001b[38;5;28;01mfor\u001b[39;00m device \u001b[38;5;129;01min\u001b[39;00m usb_devices:\n\u001b[1;32m      3\u001b[0m     \u001b[38;5;28mprint\u001b[39m(device)\n",
      "\u001b[0;31mNameError\u001b[0m: name 'USBTools' is not defined"
     ]
    }
   ],
   "source": [
    "usb_devices = USBTools.list_usb_devices()\n",
    "for device in usb_devices:\n",
    "    print(device)"
   ]
  },
  {
   "cell_type": "code",
   "execution_count": null,
   "metadata": {},
   "outputs": [],
   "source": [
    "def list_usb_devices():\n",
    "    try: \n",
    "        # Run the lsusb command \n",
    "        result = subprocess.run(['lsusb'], capture_output=True, text=True, check=True)\n",
    "        devices = result.stdout.strip().split('\\n')\n",
    "        return devices\n",
    "    except FileNotFoundError:\n",
    "        return \"Error: 'lsusb' command not found. Make sure it's installed and available in the PATH.\"\n",
    "    except subprocess.CalledProcessError as e:\n",
    "        return f\"Error running 'lsusb': {e}\""
   ]
  },
  {
   "cell_type": "code",
   "execution_count": 15,
   "metadata": {},
   "outputs": [
    {
     "name": "stdout",
     "output_type": "stream",
     "text": [
      "Bus 002 Device 002: ID 0bda:0420 Realtek Semiconductor Corp. 4-Port USB 3.0 Hub\n",
      "Bus 002 Device 001: ID 1d6b:0003 Linux Foundation 3.0 root hub\n",
      "Bus 001 Device 005: ID 062a:38df MosArt Semiconductor Corp. TIETI UltraSlim KB\n",
      "Bus 001 Device 004: ID 1bcf:08a0 Sunplus Innovation Technology Inc. Gaming mouse [Philips SPK9304]\n",
      "Bus 001 Device 003: ID 0bda:5420 Realtek Semiconductor Corp. 4-Port USB 2.0 Hub\n",
      "Bus 001 Device 002: ID 13d3:3549 IMC Networks Bluetooth Radio\n",
      "Bus 001 Device 001: ID 1d6b:0002 Linux Foundation 2.0 root hub\n"
     ]
    }
   ],
   "source": [
    "import subprocess\n",
    "\n",
    "def list_usb_devices() -> list:\n",
    "    devices = []  # Initialize empty array to store devices\n",
    "    try:\n",
    "        # Run the lsusb command\n",
    "        result = subprocess.run(['lsusb'], capture_output=True, text=True, check=True)\n",
    "        \n",
    "        # Split the output into lines and process each line\n",
    "        for line in result.stdout.strip().split('\\n'):\n",
    "            # Add each device to the array\n",
    "            devices.append(line)\n",
    "            \n",
    "        return devices\n",
    "    except FileNotFoundError:\n",
    "        return [\"Error: 'lsusb' command not found. Make sure it's installed and available in the PATH.\"]\n",
    "    except subprocess.CalledProcessError as e:\n",
    "        return [f\"Error running 'lsusb': {e}\"]\n",
    "\n",
    "# Example usage:\n",
    "if __name__ == \"__main__\":\n",
    "    usb_devices = list_usb_devices()\n",
    "    for device in usb_devices:\n",
    "        print(device)"
   ]
  },
  {
   "cell_type": "code",
   "execution_count": 19,
   "metadata": {},
   "outputs": [],
   "source": [
    "import os, getpass\n",
    "\n",
    "def _set_env(var: str):\n",
    "    if not os.environ.get(var):\n",
    "        os.environ[var] = getpass.getpass(f\"{var}: \")\n",
    "\n",
    "_set_env(\"OPENAI_API_KEY\")\n"
   ]
  },
  {
   "cell_type": "code",
   "execution_count": 16,
   "metadata": {},
   "outputs": [],
   "source": [
    "import subprocess \n",
    "\n",
    "def list_usb_devices():\n",
    "    devices = []\n",
    "    result = subprocess.run(['lsusb'], capture_output=True, text=True, check=True)\n",
    "\n",
    "    for line in result.stdout.strip().split('\\n'):\n",
    "        devices.append(line)\n",
    "\n",
    "    return devices"
   ]
  },
  {
   "cell_type": "code",
   "execution_count": 20,
   "metadata": {},
   "outputs": [],
   "source": [
    "tools = [list_usb_devices]\n",
    "\n",
    "\n",
    "from langchain_openai import ChatOpenAI \n",
    "llm = ChatOpenAI(model=\"gpt-4o\")\n",
    "\n",
    "\n",
    "llm_with_tools = llm.bind_tools(tools)"
   ]
  },
  {
   "cell_type": "markdown",
   "metadata": {},
   "source": [
    "sys_msg = SystemMessage(\n",
    "    content=(\n",
    "        \"You are a helpful assistant tasked with identifying and managing devices connected to a system. \"\n",
    "        \"You are provided with a list of connected devices and their details. \"\n",
    "        \"Users may ask questions about specific devices, such as identifying a particular device (e.g., 'Where is the mouse?'), \"\n",
    "        \"or general queries about the list of connected devices. Provide precise and detailed responses based on the input list.\"\n",
    "    )\n",
    ")\n"
   ]
  },
  {
   "cell_type": "code",
   "execution_count": 21,
   "metadata": {},
   "outputs": [],
   "source": [
    "from langgraph.graph import MessagesState\n",
    "from langchain_core.messages import AIMessage, HumanMessage, SystemMessage\n",
    "\n",
    "# System Message \n",
    "sys_msg = SystemMessage(\n",
    "    content=(\n",
    "        \"You are a helpful assistant tasked with identifying and managing devices connected to a system. \"\n",
    "        \"Users may ask questions about specific devices, such as identifying a particular device, \"\n",
    "        \"or general queries about the list of connected devices. Provide precise and detailed responses based on the input list. \"        \n",
    "    )\n",
    ")"
   ]
  },
  {
   "cell_type": "code",
   "execution_count": 22,
   "metadata": {},
   "outputs": [],
   "source": [
    "# Node \n",
    "def assistant(state: MessagesState):\n",
    "    return {\"messages\": [llm_with_tools.invoke([sys_msg] + state[\"messages\"])]}"
   ]
  },
  {
   "cell_type": "code",
   "execution_count": 23,
   "metadata": {},
   "outputs": [
    {
     "ename": "ValueError",
     "evalue": "Function must have a docstring if description not provided.",
     "output_type": "error",
     "traceback": [
      "\u001b[0;31m---------------------------------------------------------------------------\u001b[0m",
      "\u001b[0;31mValueError\u001b[0m                                Traceback (most recent call last)",
      "Cell \u001b[0;32mIn[23], line 9\u001b[0m\n\u001b[1;32m      6\u001b[0m builder \u001b[38;5;241m=\u001b[39m StateGraph(MessagesState)\n\u001b[1;32m      8\u001b[0m builder\u001b[38;5;241m.\u001b[39madd_node(\u001b[38;5;124m\"\u001b[39m\u001b[38;5;124massistant\u001b[39m\u001b[38;5;124m\"\u001b[39m, assistant)\n\u001b[0;32m----> 9\u001b[0m builder\u001b[38;5;241m.\u001b[39madd_node(\u001b[38;5;124m\"\u001b[39m\u001b[38;5;124mtools\u001b[39m\u001b[38;5;124m\"\u001b[39m, \u001b[43mToolNode\u001b[49m\u001b[43m(\u001b[49m\u001b[43mtools\u001b[49m\u001b[43m)\u001b[49m)\n\u001b[1;32m     11\u001b[0m \u001b[38;5;66;03m# Define edges\u001b[39;00m\n\u001b[1;32m     12\u001b[0m builder\u001b[38;5;241m.\u001b[39madd_edge(START, \u001b[38;5;124m\"\u001b[39m\u001b[38;5;124massistant\u001b[39m\u001b[38;5;124m\"\u001b[39m)\n",
      "File \u001b[0;32m~/camera/myenv/lib/python3.10/site-packages/langgraph/prebuilt/tool_node.py:199\u001b[0m, in \u001b[0;36mToolNode.__init__\u001b[0;34m(self, tools, name, tags, handle_tool_errors, messages_key)\u001b[0m\n\u001b[1;32m    197\u001b[0m \u001b[38;5;28;01mfor\u001b[39;00m tool_ \u001b[38;5;129;01min\u001b[39;00m tools:\n\u001b[1;32m    198\u001b[0m     \u001b[38;5;28;01mif\u001b[39;00m \u001b[38;5;129;01mnot\u001b[39;00m \u001b[38;5;28misinstance\u001b[39m(tool_, BaseTool):\n\u001b[0;32m--> 199\u001b[0m         tool_ \u001b[38;5;241m=\u001b[39m \u001b[43mcreate_tool\u001b[49m\u001b[43m(\u001b[49m\u001b[43mtool_\u001b[49m\u001b[43m)\u001b[49m\n\u001b[1;32m    200\u001b[0m     \u001b[38;5;28mself\u001b[39m\u001b[38;5;241m.\u001b[39mtools_by_name[tool_\u001b[38;5;241m.\u001b[39mname] \u001b[38;5;241m=\u001b[39m tool_\n\u001b[1;32m    201\u001b[0m     \u001b[38;5;28mself\u001b[39m\u001b[38;5;241m.\u001b[39mtool_to_state_args[tool_\u001b[38;5;241m.\u001b[39mname] \u001b[38;5;241m=\u001b[39m _get_state_args(tool_)\n",
      "File \u001b[0;32m~/camera/myenv/lib/python3.10/site-packages/langchain_core/tools/convert.py:304\u001b[0m, in \u001b[0;36mtool\u001b[0;34m(name_or_callable, runnable, return_direct, args_schema, infer_schema, response_format, parse_docstring, error_on_invalid_docstring, *args)\u001b[0m\n\u001b[1;32m    298\u001b[0m \u001b[38;5;28;01melif\u001b[39;00m name_or_callable \u001b[38;5;129;01mis\u001b[39;00m \u001b[38;5;129;01mnot\u001b[39;00m \u001b[38;5;28;01mNone\u001b[39;00m:\n\u001b[1;32m    299\u001b[0m     \u001b[38;5;28;01mif\u001b[39;00m \u001b[38;5;28mcallable\u001b[39m(name_or_callable) \u001b[38;5;129;01mand\u001b[39;00m \u001b[38;5;28mhasattr\u001b[39m(name_or_callable, \u001b[38;5;124m\"\u001b[39m\u001b[38;5;124m__name__\u001b[39m\u001b[38;5;124m\"\u001b[39m):\n\u001b[1;32m    300\u001b[0m         \u001b[38;5;66;03m# Used as a decorator without parameters\u001b[39;00m\n\u001b[1;32m    301\u001b[0m         \u001b[38;5;66;03m# @tool\u001b[39;00m\n\u001b[1;32m    302\u001b[0m         \u001b[38;5;66;03m# def my_tool():\u001b[39;00m\n\u001b[1;32m    303\u001b[0m         \u001b[38;5;66;03m#    pass\u001b[39;00m\n\u001b[0;32m--> 304\u001b[0m         \u001b[38;5;28;01mreturn\u001b[39;00m \u001b[43m_create_tool_factory\u001b[49m\u001b[43m(\u001b[49m\u001b[43mname_or_callable\u001b[49m\u001b[38;5;241;43m.\u001b[39;49m\u001b[38;5;18;43m__name__\u001b[39;49m\u001b[43m)\u001b[49m\u001b[43m(\u001b[49m\u001b[43mname_or_callable\u001b[49m\u001b[43m)\u001b[49m\n\u001b[1;32m    305\u001b[0m     \u001b[38;5;28;01melif\u001b[39;00m \u001b[38;5;28misinstance\u001b[39m(name_or_callable, \u001b[38;5;28mstr\u001b[39m):\n\u001b[1;32m    306\u001b[0m         \u001b[38;5;66;03m# Used with a new name for the tool\u001b[39;00m\n\u001b[1;32m    307\u001b[0m         \u001b[38;5;66;03m# @tool(\"search\")\u001b[39;00m\n\u001b[0;32m   (...)\u001b[0m\n\u001b[1;32m    314\u001b[0m         \u001b[38;5;66;03m# def my_tool():\u001b[39;00m\n\u001b[1;32m    315\u001b[0m         \u001b[38;5;66;03m#    pass\u001b[39;00m\n\u001b[1;32m    316\u001b[0m         \u001b[38;5;28;01mreturn\u001b[39;00m _create_tool_factory(name_or_callable)\n",
      "File \u001b[0;32m~/camera/myenv/lib/python3.10/site-packages/langchain_core/tools/convert.py:249\u001b[0m, in \u001b[0;36mtool.<locals>._create_tool_factory.<locals>._tool_factory\u001b[0;34m(dec_func)\u001b[0m\n\u001b[1;32m    246\u001b[0m     description \u001b[38;5;241m=\u001b[39m \u001b[38;5;28;01mNone\u001b[39;00m\n\u001b[1;32m    248\u001b[0m \u001b[38;5;28;01mif\u001b[39;00m infer_schema \u001b[38;5;129;01mor\u001b[39;00m args_schema \u001b[38;5;129;01mis\u001b[39;00m \u001b[38;5;129;01mnot\u001b[39;00m \u001b[38;5;28;01mNone\u001b[39;00m:\n\u001b[0;32m--> 249\u001b[0m     \u001b[38;5;28;01mreturn\u001b[39;00m \u001b[43mStructuredTool\u001b[49m\u001b[38;5;241;43m.\u001b[39;49m\u001b[43mfrom_function\u001b[49m\u001b[43m(\u001b[49m\n\u001b[1;32m    250\u001b[0m \u001b[43m        \u001b[49m\u001b[43mfunc\u001b[49m\u001b[43m,\u001b[49m\n\u001b[1;32m    251\u001b[0m \u001b[43m        \u001b[49m\u001b[43mcoroutine\u001b[49m\u001b[43m,\u001b[49m\n\u001b[1;32m    252\u001b[0m \u001b[43m        \u001b[49m\u001b[43mname\u001b[49m\u001b[38;5;241;43m=\u001b[39;49m\u001b[43mtool_name\u001b[49m\u001b[43m,\u001b[49m\n\u001b[1;32m    253\u001b[0m \u001b[43m        \u001b[49m\u001b[43mdescription\u001b[49m\u001b[38;5;241;43m=\u001b[39;49m\u001b[43mdescription\u001b[49m\u001b[43m,\u001b[49m\n\u001b[1;32m    254\u001b[0m \u001b[43m        \u001b[49m\u001b[43mreturn_direct\u001b[49m\u001b[38;5;241;43m=\u001b[39;49m\u001b[43mreturn_direct\u001b[49m\u001b[43m,\u001b[49m\n\u001b[1;32m    255\u001b[0m \u001b[43m        \u001b[49m\u001b[43margs_schema\u001b[49m\u001b[38;5;241;43m=\u001b[39;49m\u001b[43mschema\u001b[49m\u001b[43m,\u001b[49m\n\u001b[1;32m    256\u001b[0m \u001b[43m        \u001b[49m\u001b[43minfer_schema\u001b[49m\u001b[38;5;241;43m=\u001b[39;49m\u001b[43minfer_schema\u001b[49m\u001b[43m,\u001b[49m\n\u001b[1;32m    257\u001b[0m \u001b[43m        \u001b[49m\u001b[43mresponse_format\u001b[49m\u001b[38;5;241;43m=\u001b[39;49m\u001b[43mresponse_format\u001b[49m\u001b[43m,\u001b[49m\n\u001b[1;32m    258\u001b[0m \u001b[43m        \u001b[49m\u001b[43mparse_docstring\u001b[49m\u001b[38;5;241;43m=\u001b[39;49m\u001b[43mparse_docstring\u001b[49m\u001b[43m,\u001b[49m\n\u001b[1;32m    259\u001b[0m \u001b[43m        \u001b[49m\u001b[43merror_on_invalid_docstring\u001b[49m\u001b[38;5;241;43m=\u001b[39;49m\u001b[43merror_on_invalid_docstring\u001b[49m\u001b[43m,\u001b[49m\n\u001b[1;32m    260\u001b[0m \u001b[43m    \u001b[49m\u001b[43m)\u001b[49m\n\u001b[1;32m    261\u001b[0m \u001b[38;5;66;03m# If someone doesn't want a schema applied, we must treat it as\u001b[39;00m\n\u001b[1;32m    262\u001b[0m \u001b[38;5;66;03m# a simple string->string function\u001b[39;00m\n\u001b[1;32m    263\u001b[0m \u001b[38;5;28;01mif\u001b[39;00m dec_func\u001b[38;5;241m.\u001b[39m\u001b[38;5;18m__doc__\u001b[39m \u001b[38;5;129;01mis\u001b[39;00m \u001b[38;5;28;01mNone\u001b[39;00m:\n",
      "File \u001b[0;32m~/camera/myenv/lib/python3.10/site-packages/langchain_core/tools/structured.py:190\u001b[0m, in \u001b[0;36mStructuredTool.from_function\u001b[0;34m(cls, func, coroutine, name, description, return_direct, args_schema, infer_schema, response_format, parse_docstring, error_on_invalid_docstring, **kwargs)\u001b[0m\n\u001b[1;32m    188\u001b[0m \u001b[38;5;28;01mif\u001b[39;00m description_ \u001b[38;5;129;01mis\u001b[39;00m \u001b[38;5;28;01mNone\u001b[39;00m:\n\u001b[1;32m    189\u001b[0m     msg \u001b[38;5;241m=\u001b[39m \u001b[38;5;124m\"\u001b[39m\u001b[38;5;124mFunction must have a docstring if description not provided.\u001b[39m\u001b[38;5;124m\"\u001b[39m\n\u001b[0;32m--> 190\u001b[0m     \u001b[38;5;28;01mraise\u001b[39;00m \u001b[38;5;167;01mValueError\u001b[39;00m(msg)\n\u001b[1;32m    191\u001b[0m \u001b[38;5;28;01mif\u001b[39;00m description \u001b[38;5;129;01mis\u001b[39;00m \u001b[38;5;28;01mNone\u001b[39;00m:\n\u001b[1;32m    192\u001b[0m     \u001b[38;5;66;03m# Only apply if using the function's docstring\u001b[39;00m\n\u001b[1;32m    193\u001b[0m     description_ \u001b[38;5;241m=\u001b[39m textwrap\u001b[38;5;241m.\u001b[39mdedent(description_)\u001b[38;5;241m.\u001b[39mstrip()\n",
      "\u001b[0;31mValueError\u001b[0m: Function must have a docstring if description not provided."
     ]
    }
   ],
   "source": [
    "from langgraph.graph import START, StateGraph\n",
    "from langgraph.prebuilt import tools_condition, ToolNode\n",
    "from IPython.display import Image, display \n",
    "\n",
    "# Graph \n",
    "builder = StateGraph(MessagesState)\n",
    "\n",
    "builder.add_node(\"assistant\", assistant)\n",
    "builder.add_node(\"tools\", ToolNode(tools))\n",
    "\n",
    "# Define edges\n",
    "builder.add_edge(START, \"assistant\")\n",
    "builder.add_conditional_edges(\"assistant\", tools_condition,)\n",
    "\n",
    "builder.add_edge(\"tools\", \"assistant\")\n",
    "\n",
    "react_graph = builder.compile()\n",
    "\n",
    "display(Image(react_graph.get_graph(xray=True).draw_mermaid_png()))"
   ]
  },
  {
   "cell_type": "code",
   "execution_count": null,
   "metadata": {},
   "outputs": [],
   "source": []
  },
  {
   "cell_type": "code",
   "execution_count": null,
   "metadata": {},
   "outputs": [],
   "source": []
  },
  {
   "cell_type": "code",
   "execution_count": 37,
   "metadata": {},
   "outputs": [
    {
     "data": {
      "image/png": "[encoded data removed]",
      "text/plain": [
       "<IPython.core.display.Image object>"
      ]
     },
     "metadata": {},
     "output_type": "display_data"
    }
   ],
   "source": [
    "import subprocess\n",
    "from langchain_openai import ChatOpenAI\n",
    "from langgraph.graph import MessagesState, StateGraph, START\n",
    "from langgraph.prebuilt import tools_condition, ToolNode\n",
    "from langchain_core.messages import AIMessage, HumanMessage, SystemMessage\n",
    "\n",
    "def list_usb_devices() -> list:\n",
    "    \"\"\"\n",
    "    Retrieves a list of all USB devices connected to the system using the lsusb command.\n",
    "    \n",
    "    Returns:\n",
    "        list: A list of strings, where each string represents a USB device with its details\n",
    "              including bus number, device ID, and description.\n",
    "    \"\"\"\n",
    "    devices = []\n",
    "    result = subprocess.run(['lsusb'], capture_output=True, text=True, check=True)\n",
    "    for line in result.stdout.strip().split('\\n'):\n",
    "        devices.append(line)\n",
    "    return devices\n",
    "\n",
    "# Set up tools\n",
    "tools = [list_usb_devices]\n",
    "\n",
    "# Initialize LLM\n",
    "llm = ChatOpenAI(model=\"gpt-4\")\n",
    "llm_with_tools = llm.bind_tools(tools)\n",
    "\n",
    "# System Message\n",
    "sys_msg = SystemMessage(\n",
    "    content=(\n",
    "        \"You are a helpful assistant tasked with identifying and managing devices connected to a system. \"\n",
    "        \"Users may ask questions about specific devices, such as identifying a particular device, \"\n",
    "        \"or general queries about the list of connected devices. Provide precise and detailed responses based on the input list. \"\n",
    "    )\n",
    ")\n",
    "\n",
    "# Node\n",
    "def assistant(state: MessagesState):\n",
    "    \"\"\"Process messages in the state and return LLM response.\"\"\"\n",
    "    return {\"messages\": [llm_with_tools.invoke([sys_msg] + state[\"messages\"])]}\n",
    "\n",
    "# Graph setup\n",
    "builder = StateGraph(MessagesState)\n",
    "builder.add_node(\"assistant\", assistant)\n",
    "builder.add_node(\"tools\", ToolNode(tools))\n",
    "\n",
    "# Define edges\n",
    "builder.add_edge(START, \"assistant\")\n",
    "builder.add_conditional_edges(\n",
    "    \"assistant\",\n",
    "    tools_condition,\n",
    ")\n",
    "builder.add_edge(\"tools\", \"assistant\")\n",
    "\n",
    "# Compile graph\n",
    "react_graph = builder.compile()\n",
    "\n",
    "display(Image(react_graph.get_graph(xray=True).draw_mermaid_png()))\n"
   ]
  },
  {
   "cell_type": "code",
   "execution_count": 41,
   "metadata": {},
   "outputs": [
    {
     "name": "stdout",
     "output_type": "stream",
     "text": [
      "================================\u001b[1m Human Message \u001b[0m=================================\n",
      "\n",
      "is there a camera connected?\n",
      "==================================\u001b[1m Ai Message \u001b[0m==================================\n",
      "Tool Calls:\n",
      "  list_usb_devices (call_AKpHsAZ3am1KR89uXJIsugCP)\n",
      " Call ID: call_AKpHsAZ3am1KR89uXJIsugCP\n",
      "  Args:\n",
      "=================================\u001b[1m Tool Message \u001b[0m=================================\n",
      "Name: list_usb_devices\n",
      "\n",
      "[\"Bus 002 Device 002: ID 0bda:0420 Realtek Semiconductor Corp. 4-Port USB 3.0 Hub\", \"Bus 002 Device 001: ID 1d6b:0003 Linux Foundation 3.0 root hub\", \"Bus 001 Device 005: ID 062a:38df MosArt Semiconductor Corp. TIETI UltraSlim KB\", \"Bus 001 Device 004: ID 1bcf:08a0 Sunplus Innovation Technology Inc. Gaming mouse [Philips SPK9304]\", \"Bus 001 Device 003: ID 0bda:5420 Realtek Semiconductor Corp. 4-Port USB 2.0 Hub\", \"Bus 001 Device 002: ID 13d3:3549 IMC Networks Bluetooth Radio\", \"Bus 001 Device 001: ID 1d6b:0002 Linux Foundation 2.0 root hub\"]\n",
      "==================================\u001b[1m Ai Message \u001b[0m==================================\n",
      "\n",
      "I'm sorry, but there doesn't seem to be a camera connected to the system at the moment. The listed devices include a USB hub, a mouse, a keyboard, and a bluetooth radio.\n"
     ]
    }
   ],
   "source": [
    "messages = [HumanMessage(content=\"is there a camera connected?\")]\n",
    "messages = react_graph.invoke({\"messages\": messages})\n",
    "\n",
    "for m in messages['messages']:\n",
    "    m.pretty_print() "
   ]
  },
  {
   "cell_type": "code",
   "execution_count": null,
   "metadata": {},
   "outputs": [],
   "source": []
  }
 ],
 "metadata": {
  "kernelspec": {
   "display_name": "myenv",
   "language": "python",
   "name": "python3"
  },
  "language_info": {
   "codemirror_mode": {
    "name": "ipython",
    "version": 3
   },
   "file_extension": ".py",
   "mimetype": "text/x-python",
   "name": "python",
   "nbconvert_exporter": "python",
   "pygments_lexer": "ipython3",
   "version": "3.10.12"
  }
 },
 "nbformat": 4,
 "nbformat_minor": 2
}
