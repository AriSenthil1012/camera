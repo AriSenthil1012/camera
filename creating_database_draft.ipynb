{
 "cells": [
  {
   "cell_type": "markdown",
   "metadata": {},
   "source": [
    "Data Storage Format\n",
    "\n",
    "\n",
    "\n",
    "    Color Image → Convert to Base64 (string format for easy retrieval)\n",
    "    Depth Image → Convert to Bytes (Binary Large Object - BLOB) (since depth images can be in 16-bit format, Base64 is inefficient)\n",
    "    Timestamp *(primary key)*→ Unix Epoch (BIGINT for efficient querying)"
   ]
  },
  {
   "cell_type": "code",
   "execution_count": null,
   "metadata": {},
   "outputs": [],
   "source": [
    "import pyrealsense2 as rs\n",
    "import numpy\n",
    "\n",
    "\n"
   ]
  }
 ],
 "metadata": {
  "kernelspec": {
   "display_name": "myenv",
   "language": "python",
   "name": "python3"
  },
  "language_info": {
   "name": "python",
   "version": "3.10.12"
  }
 },
 "nbformat": 4,
 "nbformat_minor": 2
}
