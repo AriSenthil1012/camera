{
 "cells": [
  {
   "cell_type": "code",
   "execution_count": 1,
   "metadata": {},
   "outputs": [],
   "source": [
    "from typing import TypedDict, Optional, List, Dict, Any\n",
    "import numpy as np\n",
    "import pyrealsense2 as rs\n",
    "import cv2\n",
    "import base64\n",
    "from PIL import Image\n",
    "import io\n",
    "from langchain_openai import ChatOpenAI\n",
    "from langchain_core.messages import AIMessage, HumanMessage, SystemMessage\n",
    "from langchain_community.document_loaders.image import UnstructuredImageLoader\n",
    "from langchain_core.tools import tool\n",
    "from langgraph.graph import MessagesState, StateGraph, START, END\n",
    "from langgraph.prebuilt import ToolNode, tools_condition\n",
    "from dataclasses import dataclass"
   ]
  },
  {
   "cell_type": "code",
   "execution_count": 17,
   "metadata": {},
   "outputs": [
    {
     "ename": "ImportError",
     "evalue": "cannot import name 'RealSenseStream' from 'color_frame_stream' (/home/ari/camera/color_frame_stream.py)",
     "output_type": "error",
     "traceback": [
      "\u001b[0;31m---------------------------------------------------------------------------\u001b[0m",
      "\u001b[0;31mImportError\u001b[0m                               Traceback (most recent call last)",
      "Cell \u001b[0;32mIn[17], line 1\u001b[0m\n\u001b[0;32m----> 1\u001b[0m \u001b[38;5;28;01mfrom\u001b[39;00m\u001b[38;5;250m \u001b[39m\u001b[38;5;21;01mcolor_frame_stream\u001b[39;00m\u001b[38;5;250m \u001b[39m\u001b[38;5;28;01mimport\u001b[39;00m RealSenseStream, ColorFrame\n\u001b[1;32m      3\u001b[0m \u001b[38;5;66;03m# Define the tools\u001b[39;00m\n\u001b[1;32m      4\u001b[0m \u001b[38;5;28;01mdef\u001b[39;00m\u001b[38;5;250m \u001b[39m\u001b[38;5;21mcapture_and_encode_frame\u001b[39m() \u001b[38;5;241m-\u001b[39m\u001b[38;5;241m>\u001b[39m \u001b[38;5;28mstr\u001b[39m:\n",
      "\u001b[0;31mImportError\u001b[0m: cannot import name 'RealSenseStream' from 'color_frame_stream' (/home/ari/camera/color_frame_stream.py)"
     ]
    }
   ],
   "source": [
    "from color_frame_stream import RealSenseStream, ColorFrame\n",
    "\n",
    "# Define the tools\n",
    "def capture_and_encode_frame() -> str:\n",
    "    \"\"\"Captures and encodes a frame from RealSense Camera\"\"\"\n",
    "    camera = RealSenseStream()\n",
    "    try:\n",
    "        color_frame = camera.streaming_color_frame()\n",
    "        if color_frame.error:\n",
    "            return f\"Failed to capture frame: {color_frame.error}\"\n",
    "        \n",
    "        pil_image = Image.fromarray(color_frame.image)\n",
    "        buffer = io.BytesIO()\n",
    "        pil_image.save(buffer, format=\"JPEG\")\n",
    "        return base64.b64encode(buffer.getvalue()).decode(\"utf-8\")\n",
    "    except Exception as e:\n",
    "        return f\"Error capturing frame: {str(e)}\"\n",
    "    finally:\n",
    "        camera.stop()"
   ]
  },
  {
   "cell_type": "code",
   "execution_count": 3,
   "metadata": {},
   "outputs": [],
   "source": [
    "class VisionAnalysisState(TypedDict):\n",
    "    base64_image: str\n",
    "    messages: str\n",
    "    error: Optional[str]"
   ]
  },
  {
   "cell_type": "code",
   "execution_count": 18,
   "metadata": {},
   "outputs": [],
   "source": [
    "# example_notebook.ipynb\n",
    "from camera_manager import CameraManager\n",
    "import cv2\n",
    "import matplotlib.pyplot as plt\n",
    "%matplotlib inline\n",
    "\n",
    "# Create camera manager instance\n",
    "cam = CameraManager()\n",
    "\n",
    "# Get a single frame\n",
    "frame = cam.get_current_frame()\n",
    "if frame is not None:\n",
    "    plt.imshow(frame)\n",
    "    plt.axis('off')\n",
    "    plt.show()\n",
    "\n",
    "# Or continuously capture frames\n",
    "import time\n",
    "try:\n",
    "    for _ in range(10):  # Get 10 frames\n",
    "        frame = cam.get_current_frame()\n",
    "        if frame is not None:\n",
    "            plt.imshow(frame)\n",
    "            plt.axis('off')\n",
    "            plt.show()\n",
    "        time.sleep(0.1)\n",
    "finally:\n",
    "    cam.stop()\n"
   ]
  },
  {
   "cell_type": "code",
   "execution_count": 21,
   "metadata": {},
   "outputs": [],
   "source": [
    "from camera_manager import CameraManager\n",
    "import time\n",
    "import matplotlib.pyplot as plt\n",
    "%matplotlib inline\n",
    "\n",
    "# Get access to the running camera manager\n",
    "cam = CameraManager()\n",
    "\n",
    "# Get and display current frames\n",
    "for _ in range(10):  # Get 10 frames\n",
    "    current_frame = cam.get_current_frame()\n",
    "    if current_frame is not None:\n",
    "        plt.clf()\n",
    "        plt.imshow(current_frame)\n",
    "        plt.axis('off')\n",
    "        plt.show()\n",
    "    time.sleep(0.1)"
   ]
  },
  {
   "cell_type": "code",
   "execution_count": null,
   "metadata": {},
   "outputs": [],
   "source": [
    "from camera_manager import CameraManager\n",
    "import time\n",
    "import matplotlib.pyplot as plt\n",
    "%matplotlib inline\n",
    "\n",
    "# Get access to the running camera manager\n",
    "cam = CameraManager()\n",
    "\n",
    "# Get and display current frames\n",
    "for i in range(10):  # Get 10 frames\n",
    "    current_frame = cam.get_current_frame()\n",
    "    print(f\"Frame {i}: {'Found' if current_frame is not None else 'None'}\")  # Debug print\n",
    "    \n",
    "    if current_frame is not None:\n",
    "        plt.clf()\n",
    "        plt.imshow(current_frame)\n",
    "        plt.axis('off')\n",
    "        plt.show()\n",
    "    else:\n",
    "        print(\"No frame available\")\n",
    "    time.sleep(0.1)"
   ]
  },
  {
   "cell_type": "code",
   "execution_count": null,
   "metadata": {},
   "outputs": [],
   "source": []
  }
 ],
 "metadata": {
  "kernelspec": {
   "display_name": "myenv",
   "language": "python",
   "name": "python3"
  },
  "language_info": {
   "codemirror_mode": {
    "name": "ipython",
    "version": 3
   },
   "file_extension": ".py",
   "mimetype": "text/x-python",
   "name": "python",
   "nbconvert_exporter": "python",
   "pygments_lexer": "ipython3",
   "version": "3.10.12"
  }
 },
 "nbformat": 4,
 "nbformat_minor": 2
}
